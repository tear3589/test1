{
  "nbformat": 4,
  "nbformat_minor": 0,
  "metadata": {
    "colab": {
      "name": "1주차 과제.ipynb",
      "provenance": [],
      "authorship_tag": "ABX9TyN0m4P1oNHquguj6ckbV6IL",
      "include_colab_link": true
    },
    "kernelspec": {
      "name": "python3",
      "display_name": "Python 3"
    }
  },
  "cells": [
    {
      "cell_type": "markdown",
      "metadata": {
        "id": "view-in-github",
        "colab_type": "text"
      },
      "source": [
        "<a href=\"https://colab.research.google.com/github/tear3589/test1/blob/master/1%EC%A3%BC%EC%B0%A8_%EA%B3%BC%EC%A0%9C.ipynb\" target=\"_parent\"><img src=\"https://colab.research.google.com/assets/colab-badge.svg\" alt=\"Open In Colab\"/></a>"
      ]
    },
    {
      "cell_type": "markdown",
      "metadata": {
        "id": "HVBvdGpT2f5Q",
        "colab_type": "text"
      },
      "source": [
        "# 광주 인공지능 사관학교 프리코스"
      ]
    },
    {
      "cell_type": "markdown",
      "metadata": {
        "id": "bIct6Hk75bJG",
        "colab_type": "text"
      },
      "source": [
        "## 1주차 과제(20.05.24)"
      ]
    },
    {
      "cell_type": "markdown",
      "metadata": {
        "id": "jpJatbh67fPx",
        "colab_type": "text"
      },
      "source": [
        "1.언어\n",
        "========"
      ]
    },
    {
      "cell_type": "markdown",
      "metadata": {
        "id": "q9JC6Uzv7jeK",
        "colab_type": "text"
      },
      "source": [
        "[Google] (https://translate.google.co.kr/?hl=ko, \"구글번역기\")"
      ]
    },
    {
      "cell_type": "markdown",
      "metadata": {
        "id": "I-dwUOJZ8llW",
        "colab_type": "text"
      },
      "source": [
        "구글번역기는 최근 신경망 기계 번역 기술을 도입해서 성능을 끌어올렸다고 들었습니다. 신경망 번역이 인공지능 기반의 기술이라고 하던데 이전까지 자주 써오던 서비스에도 인공지능이 접목되어 있다는게 신선했습니다."
      ]
    },
    {
      "cell_type": "markdown",
      "metadata": {
        "id": "USBlTPle93eZ",
        "colab_type": "text"
      },
      "source": [
        "2.음성\n",
        "======="
      ]
    },
    {
      "cell_type": "markdown",
      "metadata": {
        "id": "wRxSXxKL99kq",
        "colab_type": "text"
      },
      "source": [
        "[Google] (https://www.samsung.com/sec/apps/bixby/, \"빅스비\")"
      ]
    },
    {
      "cell_type": "markdown",
      "metadata": {
        "id": "tDOvKifx-NIP",
        "colab_type": "text"
      },
      "source": [
        "빅스비는 딥러닝 기반의 발전된 소프트웨어 인공지능 서비스입니다. 현재 갤럭시 스마트폰 뿐만아니라 삼성의 모든 전자기기에 탑재할 계획이 있는만큼 비전이 있고 딥러닝 즉 머신러닝의 한 방법으로 신경망의 계층을 다양한 방식으로 연속되게 구조화 한 방식을 쓰고 있으므로 앞으로 좀 더 나아질 전망이 보입니다."
      ]
    },
    {
      "cell_type": "markdown",
      "metadata": {
        "id": "ZA78wdJN_kRh",
        "colab_type": "text"
      },
      "source": [
        "3.이미지\n",
        "======="
      ]
    },
    {
      "cell_type": "markdown",
      "metadata": {
        "id": "v3c2dzqW_nsl",
        "colab_type": "text"
      },
      "source": [
        "[Google] (http://www.aitimes.com/news/articleView.html?idxno=128136, \"릴리의지도\")"
      ]
    },
    {
      "cell_type": "markdown",
      "metadata": {
        "id": "NEHtaktL_99y",
        "colab_type": "text"
      },
      "source": [
        "스마트폰으로 소형 몰래카메라를 찾아낼 수 있는 릴리의 지도는 인공지능 기술을 접목해 불법 소형카메라를 찾아주는 앱입니다.\n",
        "딥러닝 기술과 증강현실을 이용해 다향한 소형카메라 이미지를 학습하는 만큼 학습을 통한 경험으로 더욱 완벽해진다는 것이 신기했습니다."
      ]
    },
    {
      "cell_type": "markdown",
      "metadata": {
        "id": "oQFD8yUGAVH1",
        "colab_type": "text"
      },
      "source": [
        "4.자율주행\n",
        "======="
      ]
    },
    {
      "cell_type": "markdown",
      "metadata": {
        "id": "_I6rkTwaAa8T",
        "colab_type": "text"
      },
      "source": [
        "[Google] (http://pr.kia.com/ko/innovation/autonomous/autonomous.do, \"자율주행 기아자동차\")"
      ]
    },
    {
      "cell_type": "markdown",
      "metadata": {
        "id": "_VXS7Kl8AsvQ",
        "colab_type": "text"
      },
      "source": [
        "첨단 기술의 집합체인 자율주행 자동차는 단순한 자동차를 넘어서 개인의 디지털 공간, 움직이는 사무실, 휴식 공간 등으로 발전하고 있고 완전 자율주행이 머지 않아서 제가 어렸을 때 생각한 미래가 멀지 않았구나 하는 생각이 들며 신선했습니다."
      ]
    }
  ]
}